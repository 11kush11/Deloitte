{
 "cells": [
  {
   "cell_type": "markdown",
   "metadata": {},
   "source": [
    "# Capstone Project ML Algorithms.\n",
    "## Batch C3 - HR Dataset\n",
    "\n",
    "Team members:-\n",
    "- Kushagra Agrawal (Kush Agrawal)\n",
    "- Pranjal Prasun\n",
    "- Srivatsan Govindarajan\n",
    "- Subhasis Patra\n",
    "- Sravan Songa\n",
    "\n",
    "People Worked on this Jupyter Notebook\n",
    "- Kushagra Agrawal (Kush Agrawal)\n",
    "- Pranjal Prasun\n",
    "- Srivatsan Govindarajan\n",
    "- Subhasis Patra\n",
    "\n",
    "### Problem Statement\n",
    "Build an appropriate predictive model for classifying joined and not joined for the offers released. Perform comparative study of several predictive models with various approaches\n",
    "\n",
    "## Issues faced in the dataset\n",
    "- As there is not column to suggest that people have accepted the offer or not. Hence, We have assumed that the data is of the canddates who have already accepted the offer.\n",
    "- As there were 13 null values present in the 'Offered Band' column, we have removed those 13 rows from our dataset.\n",
    "- After doing outlier analysis, we found out that there no significant effect on our target variable (After removing those outliers from the numerical based columns).\n",
    "- As there were null values present in the age column, we have replaced them wiht the median age of the candidates. We also took relative experience in years into consideration for this data cleaning.\n",
    "- Our target variable was biased in terms of people joining the complany. Hence, SMOTE operation was performed.\n",
    "- Upon visualizing the decision tree, we found out that the tree was overfitting. Hence pruning was performed by getting the best parameter.\n",
    "- There are a lot of features (especially categorical data) to select. Hence, we tried to perform Feature Selection techinques such as ChiSquare Feature Selection, Recursive Feature Elimination and Principal Component Analysis. As we didn't observe signicant changes in the metric scores, we dropped columns by hit and trail to find non-significant features."
   ]
  },
  {
   "cell_type": "markdown",
   "metadata": {},
   "source": [
    "Defining functions to print Accuracy, Precision and AUC Scores"
   ]
  },
  {
   "cell_type": "code",
   "execution_count": 1,
   "metadata": {},
   "outputs": [],
   "source": [
    "from sklearn import metrics\n",
    "from sklearn.metrics import classification_report\n",
    "def print_scores(name,y_test,prediction):\n",
    "    print(\"Name of the algorithm: \"+name)\n",
    "    print(\"Accuracy:\",metrics.accuracy_score(y_test, prediction))\n",
    "    print(\"Precision:\",metrics.precision_score(y_test, prediction))\n",
    "    print(\"AUC Score:\",metrics.roc_auc_score(y_test, prediction))\n",
    "    print(classification_report(y_test,prediction))"
   ]
  },
  {
   "cell_type": "code",
   "execution_count": 2,
   "metadata": {},
   "outputs": [],
   "source": [
    "import pandas as pd\n",
    "import numpy as np\n",
    "import matplotlib.pyplot as plt\n",
    "import seaborn as sns\n",
    "import os"
   ]
  },
  {
   "cell_type": "markdown",
   "metadata": {},
   "source": [
    "Getting the merged dataset into the pandas dataframe"
   ]
  },
  {
   "cell_type": "code",
   "execution_count": 3,
   "metadata": {},
   "outputs": [],
   "source": [
    "#Getting the merged dataset into the pandas dataframe\n",
    "\n",
    "data_path=os.path.abspath('C:/Users/kusagrawal/Desktop/Deloitte Training AI Academy/Capstone Project Material/Capstone Project Outputs/')\n",
    "df=pd.read_excel(data_path+'/merged_dataset.xlsx',index_col=False)"
   ]
  },
  {
   "cell_type": "code",
   "execution_count": 4,
   "metadata": {},
   "outputs": [],
   "source": [
    "from sklearn.linear_model import LogisticRegression\n",
    "from sklearn.metrics import roc_curve, roc_auc_score\n",
    "from sklearn.metrics import confusion_matrix"
   ]
  },
  {
   "cell_type": "code",
   "execution_count": 5,
   "metadata": {},
   "outputs": [
    {
     "data": {
      "text/plain": [
       "Index(['sno', 'candidate_ref', 'doj_extended', 'duration_to_accept_offer',\n",
       "       'notice_period', 'offered_band', 'percent_hike_expected_in_ctc',\n",
       "       'percent_hike_offered_in_ctc', 'percent_difference_ctc',\n",
       "       'joining_bonus', 'candidate_relocate_actual', 'gender',\n",
       "       'candidate_source', 'rex_in_yrs', 'postal_code', 'age', 'lob_id',\n",
       "       'domicile_id', 'domicile_name', 'date_of_interview', 'status', 'lob',\n",
       "       'location_id', 'location', 'region_id', 'region_name'],\n",
       "      dtype='object')"
      ]
     },
     "execution_count": 5,
     "metadata": {},
     "output_type": "execute_result"
    }
   ],
   "source": [
    "df.columns"
   ]
  },
  {
   "cell_type": "markdown",
   "metadata": {},
   "source": [
    "Dropping unnecessary Columns"
   ]
  },
  {
   "cell_type": "code",
   "execution_count": 6,
   "metadata": {},
   "outputs": [],
   "source": [
    "df1=df.drop(['sno','candidate_ref', 'percent_hike_expected_in_ctc', 'percent_hike_offered_in_ctc','postal_code','lob_id','domicile_id','date_of_interview','location_id','region_id','domicile_name'], axis=1)"
   ]
  },
  {
   "cell_type": "markdown",
   "metadata": {},
   "source": [
    "By hit and trail we found out that dropping features such as region_name, age and gender yields better metric scores."
   ]
  },
  {
   "cell_type": "code",
   "execution_count": 7,
   "metadata": {},
   "outputs": [],
   "source": [
    "df1=df1.drop(['region_name',\"age\",\"gender\"], axis=1)"
   ]
  },
  {
   "cell_type": "code",
   "execution_count": 8,
   "metadata": {},
   "outputs": [
    {
     "data": {
      "text/plain": [
       "Index(['doj_extended', 'duration_to_accept_offer', 'notice_period',\n",
       "       'offered_band', 'percent_difference_ctc', 'joining_bonus',\n",
       "       'candidate_relocate_actual', 'candidate_source', 'rex_in_yrs', 'status',\n",
       "       'lob', 'location'],\n",
       "      dtype='object')"
      ]
     },
     "execution_count": 8,
     "metadata": {},
     "output_type": "execute_result"
    }
   ],
   "source": [
    "df1.columns"
   ]
  },
  {
   "cell_type": "markdown",
   "metadata": {},
   "source": [
    "Checking for Null Values in the dataset"
   ]
  },
  {
   "cell_type": "code",
   "execution_count": 9,
   "metadata": {},
   "outputs": [
    {
     "data": {
      "text/plain": [
       "doj_extended                  0\n",
       "duration_to_accept_offer      0\n",
       "notice_period                 0\n",
       "offered_band                 13\n",
       "percent_difference_ctc        0\n",
       "joining_bonus                 0\n",
       "candidate_relocate_actual     0\n",
       "candidate_source              0\n",
       "rex_in_yrs                    0\n",
       "status                        0\n",
       "lob                           0\n",
       "location                      0\n",
       "dtype: int64"
      ]
     },
     "execution_count": 9,
     "metadata": {},
     "output_type": "execute_result"
    }
   ],
   "source": [
    "df1.isna().sum()"
   ]
  },
  {
   "cell_type": "markdown",
   "metadata": {},
   "source": [
    "Selecting attributes with int datatype"
   ]
  },
  {
   "cell_type": "code",
   "execution_count": 10,
   "metadata": {},
   "outputs": [],
   "source": [
    "int_attributes= df.select_dtypes(include=['int'])"
   ]
  },
  {
   "cell_type": "markdown",
   "metadata": {},
   "source": [
    "Defining a function to  detect outliers in the attribute"
   ]
  },
  {
   "cell_type": "code",
   "execution_count": 11,
   "metadata": {},
   "outputs": [],
   "source": [
    "def detect_outliers_iqr(data):\n",
    "    outliers = []\n",
    "    data = sorted(data)\n",
    "    q1 = np.percentile(data, 25)\n",
    "    q3 = np.percentile(data, 75)\n",
    "    IQR = q3-q1\n",
    "    lwr_bound = q1-(1.5*IQR)\n",
    "    upr_bound = q3+(1.5*IQR)\n",
    "    for i in data: \n",
    "        if (i<lwr_bound or i>upr_bound):\n",
    "            outliers.append(i)\n",
    "    return outliers# Driver code"
   ]
  },
  {
   "cell_type": "markdown",
   "metadata": {},
   "source": [
    "Checking for outliers in the rex_in_years attribute"
   ]
  },
  {
   "cell_type": "code",
   "execution_count": 12,
   "metadata": {},
   "outputs": [
    {
     "name": "stdout",
     "output_type": "stream",
     "text": [
      "Outliers from IQR method:  195\n"
     ]
    }
   ],
   "source": [
    "sample_outliers_age = detect_outliers_iqr(df1['rex_in_yrs'])\n",
    "print(\"Outliers from IQR method: \", len(sample_outliers_age))"
   ]
  },
  {
   "cell_type": "markdown",
   "metadata": {},
   "source": [
    "Replacing the outliers with mean years of experience"
   ]
  },
  {
   "cell_type": "code",
   "execution_count": 13,
   "metadata": {},
   "outputs": [],
   "source": [
    "for i in sample_outliers_age:\n",
    "    df1['rex_in_yrs'].replace(i,df1['rex_in_yrs'].mean(),inplace=True)"
   ]
  },
  {
   "cell_type": "markdown",
   "metadata": {},
   "source": [
    "Checking for outliers in the notice_period attribute"
   ]
  },
  {
   "cell_type": "code",
   "execution_count": 14,
   "metadata": {},
   "outputs": [
    {
     "name": "stdout",
     "output_type": "stream",
     "text": [
      "Outliers from IQR method:  42\n"
     ]
    }
   ],
   "source": [
    "sample_outliers_age = detect_outliers_iqr(df1['notice_period'])\n",
    "print(\"Outliers from IQR method: \", len(sample_outliers_age))"
   ]
  },
  {
   "cell_type": "markdown",
   "metadata": {},
   "source": [
    "Replacing the outliers with mean of values in notice_period attribute"
   ]
  },
  {
   "cell_type": "code",
   "execution_count": 15,
   "metadata": {},
   "outputs": [],
   "source": [
    "for i in sample_outliers_age:\n",
    "    df1['notice_period'].replace(i,df1['notice_period'].mean(),inplace=True)"
   ]
  },
  {
   "cell_type": "markdown",
   "metadata": {},
   "source": [
    "Making status column as the last column"
   ]
  },
  {
   "cell_type": "code",
   "execution_count": 16,
   "metadata": {
    "scrolled": true
   },
   "outputs": [
    {
     "data": {
      "text/html": [
       "<div>\n",
       "<style scoped>\n",
       "    .dataframe tbody tr th:only-of-type {\n",
       "        vertical-align: middle;\n",
       "    }\n",
       "\n",
       "    .dataframe tbody tr th {\n",
       "        vertical-align: top;\n",
       "    }\n",
       "\n",
       "    .dataframe thead th {\n",
       "        text-align: right;\n",
       "    }\n",
       "</style>\n",
       "<table border=\"1\" class=\"dataframe\">\n",
       "  <thead>\n",
       "    <tr style=\"text-align: right;\">\n",
       "      <th></th>\n",
       "      <th>doj_extended</th>\n",
       "      <th>duration_to_accept_offer</th>\n",
       "      <th>notice_period</th>\n",
       "      <th>offered_band</th>\n",
       "      <th>percent_difference_ctc</th>\n",
       "      <th>joining_bonus</th>\n",
       "      <th>candidate_relocate_actual</th>\n",
       "      <th>candidate_source</th>\n",
       "      <th>rex_in_yrs</th>\n",
       "      <th>lob</th>\n",
       "      <th>location</th>\n",
       "      <th>status</th>\n",
       "    </tr>\n",
       "  </thead>\n",
       "  <tbody>\n",
       "    <tr>\n",
       "      <th>0</th>\n",
       "      <td>Yes</td>\n",
       "      <td>14</td>\n",
       "      <td>30.000000</td>\n",
       "      <td>E2</td>\n",
       "      <td>42.86</td>\n",
       "      <td>No</td>\n",
       "      <td>No</td>\n",
       "      <td>Agency</td>\n",
       "      <td>7.0</td>\n",
       "      <td>ERS</td>\n",
       "      <td>Noida</td>\n",
       "      <td>Joined</td>\n",
       "    </tr>\n",
       "    <tr>\n",
       "      <th>1</th>\n",
       "      <td>No</td>\n",
       "      <td>18</td>\n",
       "      <td>30.000000</td>\n",
       "      <td>E2</td>\n",
       "      <td>180.00</td>\n",
       "      <td>No</td>\n",
       "      <td>No</td>\n",
       "      <td>Employee Referral</td>\n",
       "      <td>8.0</td>\n",
       "      <td>INFRA</td>\n",
       "      <td>Chennai</td>\n",
       "      <td>Joined</td>\n",
       "    </tr>\n",
       "    <tr>\n",
       "      <th>2</th>\n",
       "      <td>No</td>\n",
       "      <td>3</td>\n",
       "      <td>45.000000</td>\n",
       "      <td>E2</td>\n",
       "      <td>0.00</td>\n",
       "      <td>No</td>\n",
       "      <td>No</td>\n",
       "      <td>Agency</td>\n",
       "      <td>4.0</td>\n",
       "      <td>INFRA</td>\n",
       "      <td>Noida</td>\n",
       "      <td>Joined</td>\n",
       "    </tr>\n",
       "    <tr>\n",
       "      <th>3</th>\n",
       "      <td>No</td>\n",
       "      <td>26</td>\n",
       "      <td>30.000000</td>\n",
       "      <td>E2</td>\n",
       "      <td>0.00</td>\n",
       "      <td>No</td>\n",
       "      <td>No</td>\n",
       "      <td>Employee Referral</td>\n",
       "      <td>4.0</td>\n",
       "      <td>INFRA</td>\n",
       "      <td>Noida</td>\n",
       "      <td>Joined</td>\n",
       "    </tr>\n",
       "    <tr>\n",
       "      <th>4</th>\n",
       "      <td>Yes</td>\n",
       "      <td>1</td>\n",
       "      <td>39.291829</td>\n",
       "      <td>E2</td>\n",
       "      <td>0.00</td>\n",
       "      <td>No</td>\n",
       "      <td>Yes</td>\n",
       "      <td>Employee Referral</td>\n",
       "      <td>6.0</td>\n",
       "      <td>INFRA</td>\n",
       "      <td>Noida</td>\n",
       "      <td>Joined</td>\n",
       "    </tr>\n",
       "    <tr>\n",
       "      <th>...</th>\n",
       "      <td>...</td>\n",
       "      <td>...</td>\n",
       "      <td>...</td>\n",
       "      <td>...</td>\n",
       "      <td>...</td>\n",
       "      <td>...</td>\n",
       "      <td>...</td>\n",
       "      <td>...</td>\n",
       "      <td>...</td>\n",
       "      <td>...</td>\n",
       "      <td>...</td>\n",
       "      <td>...</td>\n",
       "    </tr>\n",
       "    <tr>\n",
       "      <th>8990</th>\n",
       "      <td>No</td>\n",
       "      <td>4</td>\n",
       "      <td>0.000000</td>\n",
       "      <td>E1</td>\n",
       "      <td>0.00</td>\n",
       "      <td>No</td>\n",
       "      <td>No</td>\n",
       "      <td>Employee Referral</td>\n",
       "      <td>1.0</td>\n",
       "      <td>ERS</td>\n",
       "      <td>Chennai</td>\n",
       "      <td>Joined</td>\n",
       "    </tr>\n",
       "    <tr>\n",
       "      <th>8991</th>\n",
       "      <td>Yes</td>\n",
       "      <td>2</td>\n",
       "      <td>0.000000</td>\n",
       "      <td>E1</td>\n",
       "      <td>0.00</td>\n",
       "      <td>No</td>\n",
       "      <td>No</td>\n",
       "      <td>Direct</td>\n",
       "      <td>3.0</td>\n",
       "      <td>BFSI</td>\n",
       "      <td>Chennai</td>\n",
       "      <td>Joined</td>\n",
       "    </tr>\n",
       "    <tr>\n",
       "      <th>8992</th>\n",
       "      <td>No</td>\n",
       "      <td>0</td>\n",
       "      <td>0.000000</td>\n",
       "      <td>E2</td>\n",
       "      <td>0.00</td>\n",
       "      <td>No</td>\n",
       "      <td>No</td>\n",
       "      <td>Direct</td>\n",
       "      <td>5.0</td>\n",
       "      <td>INFRA</td>\n",
       "      <td>Noida</td>\n",
       "      <td>Joined</td>\n",
       "    </tr>\n",
       "    <tr>\n",
       "      <th>8993</th>\n",
       "      <td>No</td>\n",
       "      <td>0</td>\n",
       "      <td>30.000000</td>\n",
       "      <td>E1</td>\n",
       "      <td>-13.04</td>\n",
       "      <td>No</td>\n",
       "      <td>No</td>\n",
       "      <td>Direct</td>\n",
       "      <td>4.0</td>\n",
       "      <td>INFRA</td>\n",
       "      <td>Noida</td>\n",
       "      <td>Joined</td>\n",
       "    </tr>\n",
       "    <tr>\n",
       "      <th>8994</th>\n",
       "      <td>No</td>\n",
       "      <td>2</td>\n",
       "      <td>0.000000</td>\n",
       "      <td>E1</td>\n",
       "      <td>-21.45</td>\n",
       "      <td>No</td>\n",
       "      <td>No</td>\n",
       "      <td>Employee Referral</td>\n",
       "      <td>1.0</td>\n",
       "      <td>INFRA</td>\n",
       "      <td>Chennai</td>\n",
       "      <td>Joined</td>\n",
       "    </tr>\n",
       "  </tbody>\n",
       "</table>\n",
       "<p>8995 rows × 12 columns</p>\n",
       "</div>"
      ],
      "text/plain": [
       "     doj_extended  duration_to_accept_offer  notice_period offered_band  \\\n",
       "0             Yes                        14      30.000000           E2   \n",
       "1              No                        18      30.000000           E2   \n",
       "2              No                         3      45.000000           E2   \n",
       "3              No                        26      30.000000           E2   \n",
       "4             Yes                         1      39.291829           E2   \n",
       "...           ...                       ...            ...          ...   \n",
       "8990           No                         4       0.000000           E1   \n",
       "8991          Yes                         2       0.000000           E1   \n",
       "8992           No                         0       0.000000           E2   \n",
       "8993           No                         0      30.000000           E1   \n",
       "8994           No                         2       0.000000           E1   \n",
       "\n",
       "      percent_difference_ctc joining_bonus candidate_relocate_actual  \\\n",
       "0                      42.86            No                        No   \n",
       "1                     180.00            No                        No   \n",
       "2                       0.00            No                        No   \n",
       "3                       0.00            No                        No   \n",
       "4                       0.00            No                       Yes   \n",
       "...                      ...           ...                       ...   \n",
       "8990                    0.00            No                        No   \n",
       "8991                    0.00            No                        No   \n",
       "8992                    0.00            No                        No   \n",
       "8993                  -13.04            No                        No   \n",
       "8994                  -21.45            No                        No   \n",
       "\n",
       "       candidate_source  rex_in_yrs    lob location  status  \n",
       "0                Agency         7.0    ERS    Noida  Joined  \n",
       "1     Employee Referral         8.0  INFRA  Chennai  Joined  \n",
       "2                Agency         4.0  INFRA    Noida  Joined  \n",
       "3     Employee Referral         4.0  INFRA    Noida  Joined  \n",
       "4     Employee Referral         6.0  INFRA    Noida  Joined  \n",
       "...                 ...         ...    ...      ...     ...  \n",
       "8990  Employee Referral         1.0    ERS  Chennai  Joined  \n",
       "8991             Direct         3.0   BFSI  Chennai  Joined  \n",
       "8992             Direct         5.0  INFRA    Noida  Joined  \n",
       "8993             Direct         4.0  INFRA    Noida  Joined  \n",
       "8994  Employee Referral         1.0  INFRA  Chennai  Joined  \n",
       "\n",
       "[8995 rows x 12 columns]"
      ]
     },
     "execution_count": 16,
     "metadata": {},
     "output_type": "execute_result"
    }
   ],
   "source": [
    "column_names=df1.columns.values.tolist()\n",
    "column_names.remove('status')\n",
    "column_names.append('status')\n",
    "df1=df1.reindex(columns=column_names)\n",
    "df1"
   ]
  },
  {
   "cell_type": "markdown",
   "metadata": {},
   "source": [
    "Replacing null values in offered_band attribute with E1."
   ]
  },
  {
   "cell_type": "code",
   "execution_count": 17,
   "metadata": {},
   "outputs": [],
   "source": [
    "df1[\"offered_band\"].fillna(\"E1\", inplace = True)"
   ]
  },
  {
   "cell_type": "markdown",
   "metadata": {},
   "source": [
    "Checking for null values after treatment"
   ]
  },
  {
   "cell_type": "code",
   "execution_count": 18,
   "metadata": {},
   "outputs": [
    {
     "data": {
      "text/plain": [
       "doj_extended                 0\n",
       "duration_to_accept_offer     0\n",
       "notice_period                0\n",
       "offered_band                 0\n",
       "percent_difference_ctc       0\n",
       "joining_bonus                0\n",
       "candidate_relocate_actual    0\n",
       "candidate_source             0\n",
       "rex_in_yrs                   0\n",
       "lob                          0\n",
       "location                     0\n",
       "status                       0\n",
       "dtype: int64"
      ]
     },
     "execution_count": 18,
     "metadata": {},
     "output_type": "execute_result"
    }
   ],
   "source": [
    "df1.isna().sum()"
   ]
  },
  {
   "cell_type": "code",
   "execution_count": 19,
   "metadata": {},
   "outputs": [
    {
     "data": {
      "text/html": [
       "<div>\n",
       "<style scoped>\n",
       "    .dataframe tbody tr th:only-of-type {\n",
       "        vertical-align: middle;\n",
       "    }\n",
       "\n",
       "    .dataframe tbody tr th {\n",
       "        vertical-align: top;\n",
       "    }\n",
       "\n",
       "    .dataframe thead th {\n",
       "        text-align: right;\n",
       "    }\n",
       "</style>\n",
       "<table border=\"1\" class=\"dataframe\">\n",
       "  <thead>\n",
       "    <tr style=\"text-align: right;\">\n",
       "      <th></th>\n",
       "      <th>doj_extended</th>\n",
       "      <th>duration_to_accept_offer</th>\n",
       "      <th>notice_period</th>\n",
       "      <th>offered_band</th>\n",
       "      <th>percent_difference_ctc</th>\n",
       "      <th>joining_bonus</th>\n",
       "      <th>candidate_relocate_actual</th>\n",
       "      <th>candidate_source</th>\n",
       "      <th>rex_in_yrs</th>\n",
       "      <th>lob</th>\n",
       "      <th>location</th>\n",
       "      <th>status</th>\n",
       "    </tr>\n",
       "  </thead>\n",
       "  <tbody>\n",
       "    <tr>\n",
       "      <th>0</th>\n",
       "      <td>Yes</td>\n",
       "      <td>14</td>\n",
       "      <td>30.000000</td>\n",
       "      <td>E2</td>\n",
       "      <td>42.86</td>\n",
       "      <td>No</td>\n",
       "      <td>No</td>\n",
       "      <td>Agency</td>\n",
       "      <td>7.0</td>\n",
       "      <td>ERS</td>\n",
       "      <td>Noida</td>\n",
       "      <td>Joined</td>\n",
       "    </tr>\n",
       "    <tr>\n",
       "      <th>1</th>\n",
       "      <td>No</td>\n",
       "      <td>18</td>\n",
       "      <td>30.000000</td>\n",
       "      <td>E2</td>\n",
       "      <td>180.00</td>\n",
       "      <td>No</td>\n",
       "      <td>No</td>\n",
       "      <td>Employee Referral</td>\n",
       "      <td>8.0</td>\n",
       "      <td>INFRA</td>\n",
       "      <td>Chennai</td>\n",
       "      <td>Joined</td>\n",
       "    </tr>\n",
       "    <tr>\n",
       "      <th>2</th>\n",
       "      <td>No</td>\n",
       "      <td>3</td>\n",
       "      <td>45.000000</td>\n",
       "      <td>E2</td>\n",
       "      <td>0.00</td>\n",
       "      <td>No</td>\n",
       "      <td>No</td>\n",
       "      <td>Agency</td>\n",
       "      <td>4.0</td>\n",
       "      <td>INFRA</td>\n",
       "      <td>Noida</td>\n",
       "      <td>Joined</td>\n",
       "    </tr>\n",
       "    <tr>\n",
       "      <th>3</th>\n",
       "      <td>No</td>\n",
       "      <td>26</td>\n",
       "      <td>30.000000</td>\n",
       "      <td>E2</td>\n",
       "      <td>0.00</td>\n",
       "      <td>No</td>\n",
       "      <td>No</td>\n",
       "      <td>Employee Referral</td>\n",
       "      <td>4.0</td>\n",
       "      <td>INFRA</td>\n",
       "      <td>Noida</td>\n",
       "      <td>Joined</td>\n",
       "    </tr>\n",
       "    <tr>\n",
       "      <th>4</th>\n",
       "      <td>Yes</td>\n",
       "      <td>1</td>\n",
       "      <td>39.291829</td>\n",
       "      <td>E2</td>\n",
       "      <td>0.00</td>\n",
       "      <td>No</td>\n",
       "      <td>Yes</td>\n",
       "      <td>Employee Referral</td>\n",
       "      <td>6.0</td>\n",
       "      <td>INFRA</td>\n",
       "      <td>Noida</td>\n",
       "      <td>Joined</td>\n",
       "    </tr>\n",
       "    <tr>\n",
       "      <th>...</th>\n",
       "      <td>...</td>\n",
       "      <td>...</td>\n",
       "      <td>...</td>\n",
       "      <td>...</td>\n",
       "      <td>...</td>\n",
       "      <td>...</td>\n",
       "      <td>...</td>\n",
       "      <td>...</td>\n",
       "      <td>...</td>\n",
       "      <td>...</td>\n",
       "      <td>...</td>\n",
       "      <td>...</td>\n",
       "    </tr>\n",
       "    <tr>\n",
       "      <th>8990</th>\n",
       "      <td>No</td>\n",
       "      <td>4</td>\n",
       "      <td>0.000000</td>\n",
       "      <td>E1</td>\n",
       "      <td>0.00</td>\n",
       "      <td>No</td>\n",
       "      <td>No</td>\n",
       "      <td>Employee Referral</td>\n",
       "      <td>1.0</td>\n",
       "      <td>ERS</td>\n",
       "      <td>Chennai</td>\n",
       "      <td>Joined</td>\n",
       "    </tr>\n",
       "    <tr>\n",
       "      <th>8991</th>\n",
       "      <td>Yes</td>\n",
       "      <td>2</td>\n",
       "      <td>0.000000</td>\n",
       "      <td>E1</td>\n",
       "      <td>0.00</td>\n",
       "      <td>No</td>\n",
       "      <td>No</td>\n",
       "      <td>Direct</td>\n",
       "      <td>3.0</td>\n",
       "      <td>BFSI</td>\n",
       "      <td>Chennai</td>\n",
       "      <td>Joined</td>\n",
       "    </tr>\n",
       "    <tr>\n",
       "      <th>8992</th>\n",
       "      <td>No</td>\n",
       "      <td>0</td>\n",
       "      <td>0.000000</td>\n",
       "      <td>E2</td>\n",
       "      <td>0.00</td>\n",
       "      <td>No</td>\n",
       "      <td>No</td>\n",
       "      <td>Direct</td>\n",
       "      <td>5.0</td>\n",
       "      <td>INFRA</td>\n",
       "      <td>Noida</td>\n",
       "      <td>Joined</td>\n",
       "    </tr>\n",
       "    <tr>\n",
       "      <th>8993</th>\n",
       "      <td>No</td>\n",
       "      <td>0</td>\n",
       "      <td>30.000000</td>\n",
       "      <td>E1</td>\n",
       "      <td>-13.04</td>\n",
       "      <td>No</td>\n",
       "      <td>No</td>\n",
       "      <td>Direct</td>\n",
       "      <td>4.0</td>\n",
       "      <td>INFRA</td>\n",
       "      <td>Noida</td>\n",
       "      <td>Joined</td>\n",
       "    </tr>\n",
       "    <tr>\n",
       "      <th>8994</th>\n",
       "      <td>No</td>\n",
       "      <td>2</td>\n",
       "      <td>0.000000</td>\n",
       "      <td>E1</td>\n",
       "      <td>-21.45</td>\n",
       "      <td>No</td>\n",
       "      <td>No</td>\n",
       "      <td>Employee Referral</td>\n",
       "      <td>1.0</td>\n",
       "      <td>INFRA</td>\n",
       "      <td>Chennai</td>\n",
       "      <td>Joined</td>\n",
       "    </tr>\n",
       "  </tbody>\n",
       "</table>\n",
       "<p>8995 rows × 12 columns</p>\n",
       "</div>"
      ],
      "text/plain": [
       "     doj_extended  duration_to_accept_offer  notice_period offered_band  \\\n",
       "0             Yes                        14      30.000000           E2   \n",
       "1              No                        18      30.000000           E2   \n",
       "2              No                         3      45.000000           E2   \n",
       "3              No                        26      30.000000           E2   \n",
       "4             Yes                         1      39.291829           E2   \n",
       "...           ...                       ...            ...          ...   \n",
       "8990           No                         4       0.000000           E1   \n",
       "8991          Yes                         2       0.000000           E1   \n",
       "8992           No                         0       0.000000           E2   \n",
       "8993           No                         0      30.000000           E1   \n",
       "8994           No                         2       0.000000           E1   \n",
       "\n",
       "      percent_difference_ctc joining_bonus candidate_relocate_actual  \\\n",
       "0                      42.86            No                        No   \n",
       "1                     180.00            No                        No   \n",
       "2                       0.00            No                        No   \n",
       "3                       0.00            No                        No   \n",
       "4                       0.00            No                       Yes   \n",
       "...                      ...           ...                       ...   \n",
       "8990                    0.00            No                        No   \n",
       "8991                    0.00            No                        No   \n",
       "8992                    0.00            No                        No   \n",
       "8993                  -13.04            No                        No   \n",
       "8994                  -21.45            No                        No   \n",
       "\n",
       "       candidate_source  rex_in_yrs    lob location  status  \n",
       "0                Agency         7.0    ERS    Noida  Joined  \n",
       "1     Employee Referral         8.0  INFRA  Chennai  Joined  \n",
       "2                Agency         4.0  INFRA    Noida  Joined  \n",
       "3     Employee Referral         4.0  INFRA    Noida  Joined  \n",
       "4     Employee Referral         6.0  INFRA    Noida  Joined  \n",
       "...                 ...         ...    ...      ...     ...  \n",
       "8990  Employee Referral         1.0    ERS  Chennai  Joined  \n",
       "8991             Direct         3.0   BFSI  Chennai  Joined  \n",
       "8992             Direct         5.0  INFRA    Noida  Joined  \n",
       "8993             Direct         4.0  INFRA    Noida  Joined  \n",
       "8994  Employee Referral         1.0  INFRA  Chennai  Joined  \n",
       "\n",
       "[8995 rows x 12 columns]"
      ]
     },
     "execution_count": 19,
     "metadata": {},
     "output_type": "execute_result"
    }
   ],
   "source": [
    "df1"
   ]
  },
  {
   "cell_type": "markdown",
   "metadata": {},
   "source": [
    "## Conversion of the int datatypes into float"
   ]
  },
  {
   "cell_type": "code",
   "execution_count": 20,
   "metadata": {},
   "outputs": [],
   "source": [
    "df1['duration_to_accept_offer'] = df1['duration_to_accept_offer'].astype(\"float\")\n",
    "df1['notice_period'] = df1['notice_period'].astype(\"float\")\n",
    "df1['rex_in_yrs'] = df1['rex_in_yrs'].astype(\"float\")"
   ]
  },
  {
   "cell_type": "code",
   "execution_count": 21,
   "metadata": {},
   "outputs": [
    {
     "name": "stdout",
     "output_type": "stream",
     "text": [
      "<class 'pandas.core.frame.DataFrame'>\n",
      "RangeIndex: 8995 entries, 0 to 8994\n",
      "Data columns (total 12 columns):\n",
      " #   Column                     Non-Null Count  Dtype  \n",
      "---  ------                     --------------  -----  \n",
      " 0   doj_extended               8995 non-null   object \n",
      " 1   duration_to_accept_offer   8995 non-null   float64\n",
      " 2   notice_period              8995 non-null   float64\n",
      " 3   offered_band               8995 non-null   object \n",
      " 4   percent_difference_ctc     8995 non-null   float64\n",
      " 5   joining_bonus              8995 non-null   object \n",
      " 6   candidate_relocate_actual  8995 non-null   object \n",
      " 7   candidate_source           8995 non-null   object \n",
      " 8   rex_in_yrs                 8995 non-null   float64\n",
      " 9   lob                        8995 non-null   object \n",
      " 10  location                   8995 non-null   object \n",
      " 11  status                     8995 non-null   object \n",
      "dtypes: float64(4), object(8)\n",
      "memory usage: 843.4+ KB\n"
     ]
    }
   ],
   "source": [
    "df1.info()"
   ]
  },
  {
   "cell_type": "markdown",
   "metadata": {},
   "source": [
    "## Making of X and Y columns"
   ]
  },
  {
   "cell_type": "code",
   "execution_count": 22,
   "metadata": {},
   "outputs": [],
   "source": [
    "x=df1.iloc[:,:-1]\n",
    "y=df1.iloc[:,-1]"
   ]
  },
  {
   "cell_type": "code",
   "execution_count": 23,
   "metadata": {},
   "outputs": [],
   "source": [
    "y.replace([\"Joined\",\"Not Joined\"],[0,1],inplace=True)"
   ]
  },
  {
   "cell_type": "markdown",
   "metadata": {},
   "source": [
    "Converting Joined and Not Joined into 0 and 1"
   ]
  },
  {
   "cell_type": "code",
   "execution_count": 24,
   "metadata": {},
   "outputs": [],
   "source": [
    "from sklearn.model_selection import train_test_split\n",
    "# splitting the dataset as 80% and 20%\n",
    "x_train,x_test,y_train,y_test = train_test_split(x, y,test_size=0.25,random_state=1)"
   ]
  },
  {
   "cell_type": "markdown",
   "metadata": {},
   "source": [
    "Spliting the dataset into training and test datasets"
   ]
  },
  {
   "cell_type": "markdown",
   "metadata": {},
   "source": [
    "### Scaling the Numerical data\n",
    "\n",
    "- Created a function to converting all the numerical columns to scaled datasets"
   ]
  },
  {
   "cell_type": "code",
   "execution_count": 25,
   "metadata": {},
   "outputs": [],
   "source": [
    "from sklearn.linear_model import LogisticRegression\n",
    "from sklearn.preprocessing import StandardScaler    \n",
    "\n",
    "def numerical_data(x_train,x_test):\n",
    "    st_x= StandardScaler()  \n",
    "    x_train= st_x.fit_transform(x_train)    \n",
    "    x_test= st_x.transform(x_test)\n",
    "    return x_train,x_test\n"
   ]
  },
  {
   "cell_type": "markdown",
   "metadata": {},
   "source": [
    "### Creating Dummies of Categorical data\n",
    "\n",
    "- Created a function to converting all the categorical columns to dummy datasets"
   ]
  },
  {
   "cell_type": "code",
   "execution_count": 26,
   "metadata": {},
   "outputs": [],
   "source": [
    "\n",
    "from sklearn.preprocessing import OrdinalEncoder\n",
    "\n",
    "def categorical_data(x_train,x_test):\n",
    "    x = pd.get_dummies(x_train,drop_first=True)\n",
    "    x2 = pd.get_dummies(x_test,drop_first=True)\n",
    "    return x,x2"
   ]
  },
  {
   "cell_type": "markdown",
   "metadata": {},
   "source": [
    "## Seperating the Datasets into categorical and numerical datasets for running the above created functions"
   ]
  },
  {
   "cell_type": "code",
   "execution_count": 27,
   "metadata": {},
   "outputs": [],
   "source": [
    "num_attributes_train = x_train.select_dtypes(include=['float'])\n",
    "num_attributes_test = x_test.select_dtypes(include=['float'])\n",
    "\n",
    "x_train_num,x_test_num = numerical_data(num_attributes_train,num_attributes_test)\n"
   ]
  },
  {
   "cell_type": "code",
   "execution_count": 28,
   "metadata": {},
   "outputs": [
    {
     "data": {
      "text/plain": [
       "array([[-0.59866497, -0.40899763,  0.0794972 , -0.47986764],\n",
       "       [ 0.86463555, -0.40899763,  0.0794972 , -1.39886102],\n",
       "       [ 2.59749143,  2.38118156, -0.56689159, -0.47986764],\n",
       "       ...,\n",
       "       [-0.67568079,  0.98609197, -0.34660229,  0.43912574],\n",
       "       [-0.56015707, -0.40899763,  0.0794972 , -0.47986764],\n",
       "       [-0.2520938 , -0.40899763,  0.0794972 ,  0.43912574]])"
      ]
     },
     "execution_count": 28,
     "metadata": {},
     "output_type": "execute_result"
    }
   ],
   "source": [
    "#Scaled x_train Data\n",
    "x_train_num"
   ]
  },
  {
   "cell_type": "code",
   "execution_count": 29,
   "metadata": {},
   "outputs": [
    {
     "data": {
      "text/plain": [
       "array([[-0.52164916,  2.38118156, -0.92576664,  1.35811912],\n",
       "       [-0.79120452, -0.40899763,  0.0794972 ,  0.07115385],\n",
       "       [-0.59866497, -0.40899763,  0.47715558,  0.43912574],\n",
       "       ...,\n",
       "       [-0.29060171, -0.40899763,  0.47715558, -0.02037095],\n",
       "       [-0.75269661, -1.80408722,  0.0794972 , -0.93936433],\n",
       "       [-0.63717288, -0.40899763,  0.0794972 , -1.85835771]])"
      ]
     },
     "execution_count": 29,
     "metadata": {},
     "output_type": "execute_result"
    }
   ],
   "source": [
    "#Scaled x_test Data\n",
    "x_test_num"
   ]
  },
  {
   "cell_type": "code",
   "execution_count": 30,
   "metadata": {},
   "outputs": [],
   "source": [
    "cat_attributes_train = x_train.select_dtypes(include=['object'])\n",
    "cat_attributes_test = x_test.select_dtypes(include=['object'])\n",
    "\n",
    "x_train_cat,x_test_cat=categorical_data(cat_attributes_train,cat_attributes_test)\n"
   ]
  },
  {
   "cell_type": "code",
   "execution_count": 31,
   "metadata": {},
   "outputs": [
    {
     "data": {
      "text/html": [
       "<div>\n",
       "<style scoped>\n",
       "    .dataframe tbody tr th:only-of-type {\n",
       "        vertical-align: middle;\n",
       "    }\n",
       "\n",
       "    .dataframe tbody tr th {\n",
       "        vertical-align: top;\n",
       "    }\n",
       "\n",
       "    .dataframe thead th {\n",
       "        text-align: right;\n",
       "    }\n",
       "</style>\n",
       "<table border=\"1\" class=\"dataframe\">\n",
       "  <thead>\n",
       "    <tr style=\"text-align: right;\">\n",
       "      <th></th>\n",
       "      <th>doj_extended_Yes</th>\n",
       "      <th>offered_band_E1</th>\n",
       "      <th>offered_band_E2</th>\n",
       "      <th>offered_band_E3</th>\n",
       "      <th>joining_bonus_Yes</th>\n",
       "      <th>candidate_relocate_actual_Yes</th>\n",
       "      <th>candidate_source_Direct</th>\n",
       "      <th>candidate_source_Employee Referral</th>\n",
       "      <th>lob_BFSI</th>\n",
       "      <th>lob_CSMP</th>\n",
       "      <th>...</th>\n",
       "      <th>lob_MMS</th>\n",
       "      <th>location_Bangalore</th>\n",
       "      <th>location_Chennai</th>\n",
       "      <th>location_Cochin</th>\n",
       "      <th>location_Gurgaon</th>\n",
       "      <th>location_Hyderabad</th>\n",
       "      <th>location_Kolkata</th>\n",
       "      <th>location_Mumbai</th>\n",
       "      <th>location_Noida</th>\n",
       "      <th>location_Pune</th>\n",
       "    </tr>\n",
       "  </thead>\n",
       "  <tbody>\n",
       "    <tr>\n",
       "      <th>842</th>\n",
       "      <td>1</td>\n",
       "      <td>1</td>\n",
       "      <td>0</td>\n",
       "      <td>0</td>\n",
       "      <td>0</td>\n",
       "      <td>0</td>\n",
       "      <td>0</td>\n",
       "      <td>1</td>\n",
       "      <td>1</td>\n",
       "      <td>0</td>\n",
       "      <td>...</td>\n",
       "      <td>0</td>\n",
       "      <td>1</td>\n",
       "      <td>0</td>\n",
       "      <td>0</td>\n",
       "      <td>0</td>\n",
       "      <td>0</td>\n",
       "      <td>0</td>\n",
       "      <td>0</td>\n",
       "      <td>0</td>\n",
       "      <td>0</td>\n",
       "    </tr>\n",
       "    <tr>\n",
       "      <th>7793</th>\n",
       "      <td>1</td>\n",
       "      <td>1</td>\n",
       "      <td>0</td>\n",
       "      <td>0</td>\n",
       "      <td>0</td>\n",
       "      <td>0</td>\n",
       "      <td>1</td>\n",
       "      <td>0</td>\n",
       "      <td>0</td>\n",
       "      <td>1</td>\n",
       "      <td>...</td>\n",
       "      <td>0</td>\n",
       "      <td>0</td>\n",
       "      <td>0</td>\n",
       "      <td>0</td>\n",
       "      <td>0</td>\n",
       "      <td>0</td>\n",
       "      <td>0</td>\n",
       "      <td>0</td>\n",
       "      <td>1</td>\n",
       "      <td>0</td>\n",
       "    </tr>\n",
       "    <tr>\n",
       "      <th>3463</th>\n",
       "      <td>1</td>\n",
       "      <td>1</td>\n",
       "      <td>0</td>\n",
       "      <td>0</td>\n",
       "      <td>0</td>\n",
       "      <td>0</td>\n",
       "      <td>1</td>\n",
       "      <td>0</td>\n",
       "      <td>0</td>\n",
       "      <td>0</td>\n",
       "      <td>...</td>\n",
       "      <td>0</td>\n",
       "      <td>0</td>\n",
       "      <td>0</td>\n",
       "      <td>0</td>\n",
       "      <td>0</td>\n",
       "      <td>1</td>\n",
       "      <td>0</td>\n",
       "      <td>0</td>\n",
       "      <td>0</td>\n",
       "      <td>0</td>\n",
       "    </tr>\n",
       "  </tbody>\n",
       "</table>\n",
       "<p>3 rows × 25 columns</p>\n",
       "</div>"
      ],
      "text/plain": [
       "      doj_extended_Yes  offered_band_E1  offered_band_E2  offered_band_E3  \\\n",
       "842                  1                1                0                0   \n",
       "7793                 1                1                0                0   \n",
       "3463                 1                1                0                0   \n",
       "\n",
       "      joining_bonus_Yes  candidate_relocate_actual_Yes  \\\n",
       "842                   0                              0   \n",
       "7793                  0                              0   \n",
       "3463                  0                              0   \n",
       "\n",
       "      candidate_source_Direct  candidate_source_Employee Referral  lob_BFSI  \\\n",
       "842                         0                                   1         1   \n",
       "7793                        1                                   0         0   \n",
       "3463                        1                                   0         0   \n",
       "\n",
       "      lob_CSMP  ...  lob_MMS  location_Bangalore  location_Chennai  \\\n",
       "842          0  ...        0                   1                 0   \n",
       "7793         1  ...        0                   0                 0   \n",
       "3463         0  ...        0                   0                 0   \n",
       "\n",
       "      location_Cochin  location_Gurgaon  location_Hyderabad  location_Kolkata  \\\n",
       "842                 0                 0                   0                 0   \n",
       "7793                0                 0                   0                 0   \n",
       "3463                0                 0                   1                 0   \n",
       "\n",
       "      location_Mumbai  location_Noida  location_Pune  \n",
       "842                 0               0              0  \n",
       "7793                0               1              0  \n",
       "3463                0               0              0  \n",
       "\n",
       "[3 rows x 25 columns]"
      ]
     },
     "execution_count": 31,
     "metadata": {},
     "output_type": "execute_result"
    }
   ],
   "source": [
    "#Binary Encoding on Categorical Features\n",
    "x_train_cat.head(3)"
   ]
  },
  {
   "cell_type": "code",
   "execution_count": 32,
   "metadata": {},
   "outputs": [
    {
     "name": "stdout",
     "output_type": "stream",
     "text": [
      "Missing values in second list: set()\n"
     ]
    }
   ],
   "source": [
    "print(\"Missing values in second list:\", (set(x_train_cat.columns.values.tolist()).difference(x_test_cat.columns.values.tolist())))"
   ]
  },
  {
   "cell_type": "markdown",
   "metadata": {},
   "source": [
    "Merging the scaled numerical columns and the created dummy columns into one dataset (train and test)"
   ]
  },
  {
   "cell_type": "code",
   "execution_count": 33,
   "metadata": {},
   "outputs": [],
   "source": [
    "x_train = np.concatenate([x_train_cat, x_train_num], axis=1)\n",
    "x_test = np.concatenate([x_test_cat, x_test_num], axis=1)"
   ]
  },
  {
   "cell_type": "code",
   "execution_count": 34,
   "metadata": {},
   "outputs": [],
   "source": [
    "import imblearn\n",
    "from imblearn.over_sampling import SMOTE #Importing SMOTE\n",
    "x_train,y_train = SMOTE(random_state=1,sampling_strategy=1).fit_resample(x_train,y_train) #resample fit"
   ]
  },
  {
   "cell_type": "markdown",
   "metadata": {},
   "source": [
    "### Logistic Regression Model"
   ]
  },
  {
   "cell_type": "code",
   "execution_count": 35,
   "metadata": {},
   "outputs": [
    {
     "name": "stdout",
     "output_type": "stream",
     "text": [
      "col_0      0    1\n",
      "status           \n",
      "0       1120  712\n",
      "1        113  304\n"
     ]
    },
    {
     "name": "stderr",
     "output_type": "stream",
     "text": [
      "C:\\Users\\kusagrawal\\AppData\\Local\\Packages\\PythonSoftwareFoundation.Python.3.9_qbz5n2kfra8p0\\LocalCache\\local-packages\\Python39\\site-packages\\sklearn\\linear_model\\_logistic.py:814: ConvergenceWarning: lbfgs failed to converge (status=1):\n",
      "STOP: TOTAL NO. of ITERATIONS REACHED LIMIT.\n",
      "\n",
      "Increase the number of iterations (max_iter) or scale the data as shown in:\n",
      "    https://scikit-learn.org/stable/modules/preprocessing.html\n",
      "Please also refer to the documentation for alternative solver options:\n",
      "    https://scikit-learn.org/stable/modules/linear_model.html#logistic-regression\n",
      "  n_iter_i = _check_optimize_result(\n"
     ]
    }
   ],
   "source": [
    "lr = LogisticRegression()\n",
    "modelpr=lr.fit(x_train,y_train)\n",
    "pred_res=modelpr.predict(x_test)\n",
    "print(pd.crosstab(y_test,pred_res))"
   ]
  },
  {
   "cell_type": "code",
   "execution_count": 36,
   "metadata": {},
   "outputs": [
    {
     "data": {
      "text/plain": [
       "Text(0.5, 257.44, 'Predicted label')"
      ]
     },
     "execution_count": 36,
     "metadata": {},
     "output_type": "execute_result"
    },
    {
     "data": {
      "image/png": "[encoded data removed]",
      "text/plain": [
       "<Figure size 432x288 with 2 Axes>"
      ]
     },
     "metadata": {
      "needs_background": "light"
     },
     "output_type": "display_data"
    }
   ],
   "source": [
    "#Confusion Matrix\n",
    "from sklearn.metrics import confusion_matrix\n",
    "cnf_matrix=confusion_matrix(y_test,pred_res)\n",
    "class_names=[0,1] # name  of classes\n",
    "fig, ax = plt.subplots()\n",
    "tick_marks = np.arange(len(class_names))\n",
    "plt.xticks(tick_marks, class_names)\n",
    "plt.yticks(tick_marks, class_names)\n",
    "# create heatmap\n",
    "sns.heatmap(pd.DataFrame(cnf_matrix), annot=True, cmap=\"YlGnBu\" ,fmt='g')\n",
    "ax.xaxis.set_label_position(\"top\")\n",
    "plt.tight_layout()\n",
    "plt.title('Confusion matrix', y=1.1)\n",
    "plt.ylabel('Actual label')\n",
    "plt.xlabel('Predicted label')"
   ]
  },
  {
   "cell_type": "code",
   "execution_count": 37,
   "metadata": {},
   "outputs": [
    {
     "name": "stdout",
     "output_type": "stream",
     "text": [
      "Name of the algorithm: Logistic Regression\n",
      "Accuracy: 0.6331702979101823\n",
      "Precision: 0.2992125984251969\n",
      "AUC Score: 0.6701852491805682\n",
      "              precision    recall  f1-score   support\n",
      "\n",
      "           0       0.91      0.61      0.73      1832\n",
      "           1       0.30      0.73      0.42       417\n",
      "\n",
      "    accuracy                           0.63      2249\n",
      "   macro avg       0.60      0.67      0.58      2249\n",
      "weighted avg       0.80      0.63      0.67      2249\n",
      "\n"
     ]
    }
   ],
   "source": [
    "print_scores(\"Logistic Regression\",y_test,pred_res)"
   ]
  },
  {
   "cell_type": "code",
   "execution_count": 38,
   "metadata": {},
   "outputs": [
    {
     "data": {
      "image/png": "[encoded data removed]",
      "text/plain": [
       "<Figure size 432x288 with 1 Axes>"
      ]
     },
     "metadata": {
      "needs_background": "light"
     },
     "output_type": "display_data"
    }
   ],
   "source": [
    "from sklearn.metrics import roc_auc_score\n",
    "from sklearn.metrics import roc_curve\n",
    "logit_roc_auc = roc_auc_score(y_test, lr.predict(x_test))\n",
    "fpr, tpr, thresholds = roc_curve(y_test, lr.predict_proba(x_test)[:,1])\n",
    "plt.figure()\n",
    "plt.plot(fpr, tpr, label='Logistic Regression (area = %0.2f)' % logit_roc_auc)\n",
    "plt.plot([0, 1], [0, 1],'r--')\n",
    "plt.xlim([0.0, 1.0])\n",
    "plt.ylim([0.0, 1.05])\n",
    "plt.xlabel('False Positive Rate')\n",
    "plt.ylabel('True Positive Rate')\n",
    "plt.title('Receiver operating characteristic')\n",
    "plt.legend(loc=\"lower right\")\n",
    "plt.savefig('Log_ROC')\n",
    "plt.show()"
   ]
  },
  {
   "cell_type": "markdown",
   "metadata": {},
   "source": [
    "## Random Forest"
   ]
  },
  {
   "cell_type": "code",
   "execution_count": 39,
   "metadata": {},
   "outputs": [],
   "source": [
    "from sklearn.ensemble import RandomForestClassifier\n",
    "classifier_rf=RandomForestClassifier(n_estimators= 1400,min_samples_split= 5,min_samples_leaf= 1,max_features= 'sqrt',max_depth= 80,bootstrap= False)\n",
    "model_rf=classifier_rf.fit(x_train,y_train)\n",
    "y_pred_rf=model_rf.predict(x_test)"
   ]
  },
  {
   "cell_type": "code",
   "execution_count": 40,
   "metadata": {},
   "outputs": [
    {
     "data": {
      "text/plain": [
       "Text(33.0, 0.5, 'ACTUAL')"
      ]
     },
     "execution_count": 40,
     "metadata": {},
     "output_type": "execute_result"
    },
    {
     "data": {
      "image/png": "[encoded data removed]",
      "text/plain": [
       "<Figure size 432x288 with 2 Axes>"
      ]
     },
     "metadata": {
      "needs_background": "light"
     },
     "output_type": "display_data"
    }
   ],
   "source": [
    "#Confusion Matrix\n",
    "cm_rf=confusion_matrix(y_test,y_pred_rf)\n",
    "sns.heatmap(cm_rf,annot=True,fmt='10',cmap='Blues')\n",
    "plt.xlabel('PREDICTED')\n",
    "plt.ylabel('ACTUAL')"
   ]
  },
  {
   "cell_type": "code",
   "execution_count": 41,
   "metadata": {},
   "outputs": [
    {
     "name": "stdout",
     "output_type": "stream",
     "text": [
      "Name of the algorithm: Random Forest\n",
      "Accuracy: 0.7936860827034238\n",
      "Precision: 0.4294294294294294\n",
      "AUC Score: 0.6196069345397045\n",
      "              precision    recall  f1-score   support\n",
      "\n",
      "           0       0.86      0.90      0.88      1832\n",
      "           1       0.43      0.34      0.38       417\n",
      "\n",
      "    accuracy                           0.79      2249\n",
      "   macro avg       0.64      0.62      0.63      2249\n",
      "weighted avg       0.78      0.79      0.78      2249\n",
      "\n"
     ]
    }
   ],
   "source": [
    "print_scores(\"Random Forest\",y_test,y_pred_rf)"
   ]
  },
  {
   "cell_type": "code",
   "execution_count": 42,
   "metadata": {},
   "outputs": [
    {
     "data": {
      "text/plain": [
       "\"\\nfrom sklearn.model_selection import RandomizedSearchCV\\n# Number of trees in random forest\\nn_estimators = [int(x) for x in np.linspace(start = 200, stop = 2000, num = 10)]\\n# Number of features to consider at every split\\nmax_features = ['auto', 'sqrt']\\n# Maximum number of levels in tree\\nmax_depth = [int(x) for x in np.linspace(10, 110, num = 11)]\\nmax_depth.append(None)\\n# Minimum number of samples required to split a node\\nmin_samples_split = [2, 5, 10]\\n# Minimum number of samples required at each leaf node\\nmin_samples_leaf = [1, 2, 4]\\n# Method of selecting samples for training each tree\\nbootstrap = [True, False]\\n# Create the random grid\\nrandom_grid = {'n_estimators': n_estimators,\\n               'max_features': max_features,\\n               'max_depth': max_depth,\\n               'min_samples_split': min_samples_split,\\n               'min_samples_leaf': min_samples_leaf,\\n               'bootstrap': bootstrap}\\nprint(random_grid)\\n\""
      ]
     },
     "execution_count": 42,
     "metadata": {},
     "output_type": "execute_result"
    }
   ],
   "source": [
    "\"\"\"\n",
    "from sklearn.model_selection import RandomizedSearchCV\n",
    "# Number of trees in random forest\n",
    "n_estimators = [int(x) for x in np.linspace(start = 200, stop = 2000, num = 10)]\n",
    "# Number of features to consider at every split\n",
    "max_features = ['auto', 'sqrt']\n",
    "# Maximum number of levels in tree\n",
    "max_depth = [int(x) for x in np.linspace(10, 110, num = 11)]\n",
    "max_depth.append(None)\n",
    "# Minimum number of samples required to split a node\n",
    "min_samples_split = [2, 5, 10]\n",
    "# Minimum number of samples required at each leaf node\n",
    "min_samples_leaf = [1, 2, 4]\n",
    "# Method of selecting samples for training each tree\n",
    "bootstrap = [True, False]\n",
    "# Create the random grid\n",
    "random_grid = {'n_estimators': n_estimators,\n",
    "               'max_features': max_features,\n",
    "               'max_depth': max_depth,\n",
    "               'min_samples_split': min_samples_split,\n",
    "               'min_samples_leaf': min_samples_leaf,\n",
    "               'bootstrap': bootstrap}\n",
    "print(random_grid)\n",
    "\"\"\""
   ]
  },
  {
   "cell_type": "code",
   "execution_count": 43,
   "metadata": {},
   "outputs": [
    {
     "data": {
      "text/plain": [
       "'\\n# Use the random grid to search for best hyperparameters\\nfrom sklearn.ensemble import RandomForestRegressor\\n# First create the base model to tune\\nrf = RandomForestRegressor()\\n# Random search of parameters, using 3 fold cross validation, \\n# search across 100 different combinations, and use all available cores\\nrf_random = RandomizedSearchCV(estimator = rf, param_distributions = random_grid, n_iter = 100, cv = 3, verbose=2, random_state=42, n_jobs = -1)\\n# Fit the random search model\\nrf_random.fit(x_train, y_train)\\n'"
      ]
     },
     "execution_count": 43,
     "metadata": {},
     "output_type": "execute_result"
    }
   ],
   "source": [
    "\"\"\"\n",
    "# Use the random grid to search for best hyperparameters\n",
    "from sklearn.ensemble import RandomForestRegressor\n",
    "# First create the base model to tune\n",
    "rf = RandomForestRegressor()\n",
    "# Random search of parameters, using 3 fold cross validation, \n",
    "# search across 100 different combinations, and use all available cores\n",
    "rf_random = RandomizedSearchCV(estimator = rf, param_distributions = random_grid, n_iter = 100, cv = 3, verbose=2, random_state=42, n_jobs = -1)\n",
    "# Fit the random search model\n",
    "rf_random.fit(x_train, y_train)\n",
    "\"\"\""
   ]
  },
  {
   "cell_type": "code",
   "execution_count": 44,
   "metadata": {},
   "outputs": [],
   "source": [
    "#rf_random.best_params_"
   ]
  },
  {
   "cell_type": "markdown",
   "metadata": {},
   "source": [
    "The above quoted codeset is the hyperparameter tuning Decision Tree. We have quoted the same because the code will take a lot of time to run. **(In Hours)**"
   ]
  },
  {
   "cell_type": "markdown",
   "id": "41f14f0f",
   "metadata": {},
   "source": [
    "# Gradient Boosting Classifier"
   ]
  },
  {
   "cell_type": "code",
   "execution_count": 45,
   "id": "4ce4965b",
   "metadata": {},
   "outputs": [],
   "source": [
    "from sklearn.ensemble import GradientBoostingClassifier\n",
    "gb_classifier = GradientBoostingClassifier(n_estimators = 2000,max_depth=2)\n",
    "model_gb=gb_classifier.fit(x_train,y_train)\n",
    "y_pred_gb=model_gb.predict(x_test)"
   ]
  },
  {
   "cell_type": "code",
   "execution_count": 46,
   "id": "590e4f84",
   "metadata": {},
   "outputs": [
    {
     "data": {
      "text/plain": [
       "Text(33.0, 0.5, 'ACTUAL')"
      ]
     },
     "execution_count": 46,
     "metadata": {},
     "output_type": "execute_result"
    },
    {
     "data": {
      "image/png": "[encoded data removed]",
      "text/plain": [
       "<Figure size 432x288 with 2 Axes>"
      ]
     },
     "metadata": {
      "needs_background": "light"
     },
     "output_type": "display_data"
    }
   ],
   "source": [
    "#Confusion Matrix\n",
    "cm_gb=confusion_matrix(y_test,y_pred_gb)\n",
    "sns.heatmap(cm_gb,annot=True,fmt='10',cmap='Blues')\n",
    "plt.xlabel('PREDICTED')\n",
    "plt.ylabel('ACTUAL')"
   ]
  },
  {
   "cell_type": "code",
   "execution_count": 47,
   "id": "db90ef9f",
   "metadata": {},
   "outputs": [
    {
     "name": "stdout",
     "output_type": "stream",
     "text": [
      "Name of the algorithm: Gradient Boosting\n",
      "Accuracy: 0.7999110715873722\n",
      "Precision: 0.4425087108013937\n",
      "AUC Score: 0.6086100551872912\n",
      "              precision    recall  f1-score   support\n",
      "\n",
      "           0       0.85      0.91      0.88      1832\n",
      "           1       0.44      0.30      0.36       417\n",
      "\n",
      "    accuracy                           0.80      2249\n",
      "   macro avg       0.65      0.61      0.62      2249\n",
      "weighted avg       0.78      0.80      0.78      2249\n",
      "\n"
     ]
    }
   ],
   "source": [
    "print_scores(\"Gradient Boosting\",y_test,y_pred_gb)"
   ]
  },
  {
   "cell_type": "markdown",
   "metadata": {},
   "source": [
    "## Decision Tree Classifier"
   ]
  },
  {
   "cell_type": "code",
   "execution_count": 48,
   "id": "f5130be1",
   "metadata": {},
   "outputs": [
    {
     "name": "stdout",
     "output_type": "stream",
     "text": [
      "Name of the algorithm: DecisionTreeClassifier\n",
      "Accuracy: 0.7203201422854602\n",
      "Precision: 0.3140350877192982\n",
      "AUC Score: 0.6079143235629837\n",
      "              precision    recall  f1-score   support\n",
      "\n",
      "           0       0.86      0.79      0.82      1832\n",
      "           1       0.31      0.43      0.36       417\n",
      "\n",
      "    accuracy                           0.72      2249\n",
      "   macro avg       0.59      0.61      0.59      2249\n",
      "weighted avg       0.76      0.72      0.74      2249\n",
      "\n"
     ]
    }
   ],
   "source": [
    "from sklearn.tree import DecisionTreeClassifier\n",
    "clf = DecisionTreeClassifier()\n",
    "\n",
    "# Train Decision Tree Classifer\n",
    "clf = clf.fit(x_train,y_train)\n",
    "\n",
    "#Predict the response for test dataset\n",
    "y_pred_dt = clf.predict(x_test)\n",
    "\n",
    "print_scores(\"DecisionTreeClassifier\",y_test,y_pred_dt)"
   ]
  },
  {
   "cell_type": "code",
   "execution_count": 49,
   "id": "cee5f1da",
   "metadata": {},
   "outputs": [
    {
     "data": {
      "text/plain": [
       "'\\nfrom sklearn import decomposition, datasets\\nfrom sklearn import tree\\nfrom sklearn.pipeline import Pipeline\\nfrom sklearn.model_selection import GridSearchCV\\nfrom sklearn.preprocessing import StandardScaler\\n\\ngrid_param={\"criterion\":[\"gini\",\"entropy\"],\\n             \"splitter\":[\"best\",\"random\"],\\n             \"max_depth\":range(2,50,1),\\n             \"min_samples_leaf\":range(1,15,1),\\n             \"min_samples_split\":range(2,20,1),\\n             \"max_leaf_nodes\":range(2,20,1)\\n            }\\ngrid_search=GridSearchCV(estimator=clf,param_grid=grid_param,cv=5,n_jobs=-1)\\ngrid_search.fit(x_train,y_train)\\nprint(grid_search.best_params_)\\n'"
      ]
     },
     "execution_count": 49,
     "metadata": {},
     "output_type": "execute_result"
    }
   ],
   "source": [
    "\n",
    "# Do a plot on models accuracy and training and testing dat with respective to depth n various params\n",
    "# seaborn line plot\n",
    "\n",
    "\"\"\"\n",
    "from sklearn import decomposition, datasets\n",
    "from sklearn import tree\n",
    "from sklearn.pipeline import Pipeline\n",
    "from sklearn.model_selection import GridSearchCV\n",
    "from sklearn.preprocessing import StandardScaler\n",
    "\n",
    "grid_param={\"criterion\":[\"gini\",\"entropy\"],\n",
    "             \"splitter\":[\"best\",\"random\"],\n",
    "             \"max_depth\":range(2,50,1),\n",
    "             \"min_samples_leaf\":range(1,15,1),\n",
    "             \"min_samples_split\":range(2,20,1),\n",
    "             \"max_leaf_nodes\":range(2,20,1)\n",
    "            }\n",
    "grid_search=GridSearchCV(estimator=clf,param_grid=grid_param,cv=5,n_jobs=-1)\n",
    "grid_search.fit(x_train,y_train)\n",
    "print(grid_search.best_params_)\n",
    "\"\"\""
   ]
  },
  {
   "cell_type": "markdown",
   "id": "3f064781",
   "metadata": {},
   "source": [
    "As we are getting the best parameters. **The code will run for about 5 HOURS.** Hence we have quoted the code."
   ]
  },
  {
   "cell_type": "markdown",
   "id": "6fec38f1",
   "metadata": {},
   "source": [
    "# K Neighbours Classifier"
   ]
  },
  {
   "cell_type": "code",
   "execution_count": 50,
   "id": "5d0525cc",
   "metadata": {},
   "outputs": [
    {
     "name": "stdout",
     "output_type": "stream",
     "text": [
      "Name of the algorithm: KNN\n",
      "Accuracy: 0.7381058248110272\n",
      "Precision: 0.28921568627450983\n",
      "AUC Score: 0.5623383389358383\n",
      "              precision    recall  f1-score   support\n",
      "\n",
      "           0       0.84      0.84      0.84      1832\n",
      "           1       0.29      0.28      0.29       417\n",
      "\n",
      "    accuracy                           0.74      2249\n",
      "   macro avg       0.56      0.56      0.56      2249\n",
      "weighted avg       0.74      0.74      0.74      2249\n",
      "\n"
     ]
    },
    {
     "data": {
      "text/plain": [
       "array([[1542,  290],\n",
       "       [ 299,  118]], dtype=int64)"
      ]
     },
     "execution_count": 50,
     "metadata": {},
     "output_type": "execute_result"
    }
   ],
   "source": [
    "from sklearn.neighbors import KNeighborsClassifier\n",
    "from sklearn.neighbors import KNeighborsRegressor\n",
    "\n",
    "knn = KNeighborsClassifier(n_neighbors=2)\n",
    "model_knn=knn.fit(x_train, y_train)\n",
    "pred_knn=model_knn.predict(x_test)\n",
    "\n",
    "print_scores(\"KNN\",y_test,pred_knn)\n",
    "\n",
    "confusion_matrix(y_test,pred_knn)\n"
   ]
  },
  {
   "cell_type": "code",
   "execution_count": 51,
   "id": "c68a79f4",
   "metadata": {},
   "outputs": [
    {
     "data": {
      "text/plain": [
       "'from sklearn.model_selection import GridSearchCV\\nparameters = {\"n_neighbors\": range(1, 50)}\\ngridsearch = GridSearchCV(KNeighborsRegressor(), parameters)\\ngridsearch.fit(x_train, y_train)\\ngridsearch.best_params_\\n'"
      ]
     },
     "execution_count": 51,
     "metadata": {},
     "output_type": "execute_result"
    }
   ],
   "source": [
    "\"\"\"from sklearn.model_selection import GridSearchCV\n",
    "parameters = {\"n_neighbors\": range(1, 50)}\n",
    "gridsearch = GridSearchCV(KNeighborsRegressor(), parameters)\n",
    "gridsearch.fit(x_train, y_train)\n",
    "gridsearch.best_params_\n",
    "\"\"\""
   ]
  },
  {
   "cell_type": "code",
   "execution_count": 52,
   "id": "62bf5f98",
   "metadata": {},
   "outputs": [
    {
     "data": {
      "text/plain": [
       "'\\nfrom sklearn.model_selection import RepeatedStratifiedKFold\\nfrom sklearn.linear_model import LogisticRegression\\nfrom sklearn.model_selection import GridSearchCV\\nmodel = LogisticRegression()\\nsolvers = [\\'newton-cg\\', \\'lbfgs\\', \\'liblinear\\']\\npenalty = [\"none\", \"l1\", \"l2\", \"elasticnet\"]\\nc_values = [100, 10, 1.0, 0.1, 0.01]\\n# define grid search\\ngrid = dict(solver=solvers,penalty=penalty,C=c_values)\\ncv = RepeatedStratifiedKFold(n_splits=10, n_repeats=3, random_state=1)\\ngrid_search = GridSearchCV(estimator=model, param_grid=grid, n_jobs=-1, cv=cv, scoring=\\'f1\\',error_score=0)\\ngrid_result = grid_search.fit(x_train, y_train)\\n# summarize results\\nprint(\"Best: %f using %s\" % (grid_result.best_score_, grid_result.best_params_))\\n'"
      ]
     },
     "execution_count": 52,
     "metadata": {},
     "output_type": "execute_result"
    }
   ],
   "source": [
    "\"\"\"\n",
    "from sklearn.model_selection import RepeatedStratifiedKFold\n",
    "from sklearn.linear_model import LogisticRegression\n",
    "from sklearn.model_selection import GridSearchCV\n",
    "model = LogisticRegression()\n",
    "solvers = ['newton-cg', 'lbfgs', 'liblinear']\n",
    "penalty = [\"none\", \"l1\", \"l2\", \"elasticnet\"]\n",
    "c_values = [100, 10, 1.0, 0.1, 0.01]\n",
    "# define grid search\n",
    "grid = dict(solver=solvers,penalty=penalty,C=c_values)\n",
    "cv = RepeatedStratifiedKFold(n_splits=10, n_repeats=3, random_state=1)\n",
    "grid_search = GridSearchCV(estimator=model, param_grid=grid, n_jobs=-1, cv=cv, scoring='f1',error_score=0)\n",
    "grid_result = grid_search.fit(x_train, y_train)\n",
    "# summarize results\n",
    "print(\"Best: %f using %s\" % (grid_result.best_score_, grid_result.best_params_))\n",
    "\"\"\"\n"
   ]
  },
  {
   "cell_type": "markdown",
   "metadata": {},
   "source": [
    "The above quoted codeset is the hyperparameter tuning. We have quoted the same because the code will take a lot of time to run. **(In Hours)**"
   ]
  },
  {
   "cell_type": "markdown",
   "id": "acab9059",
   "metadata": {},
   "source": [
    "# XG Boost"
   ]
  },
  {
   "cell_type": "code",
   "execution_count": 53,
   "id": "96da254e",
   "metadata": {},
   "outputs": [
    {
     "name": "stderr",
     "output_type": "stream",
     "text": [
      "C:\\Users\\kusagrawal\\AppData\\Local\\Packages\\PythonSoftwareFoundation.Python.3.9_qbz5n2kfra8p0\\LocalCache\\local-packages\\Python39\\site-packages\\xgboost\\compat.py:36: FutureWarning: pandas.Int64Index is deprecated and will be removed from pandas in a future version. Use pandas.Index with the appropriate dtype instead.\n",
      "  from pandas import MultiIndex, Int64Index\n",
      "C:\\Users\\kusagrawal\\AppData\\Local\\Packages\\PythonSoftwareFoundation.Python.3.9_qbz5n2kfra8p0\\LocalCache\\local-packages\\Python39\\site-packages\\xgboost\\sklearn.py:1224: UserWarning: The use of label encoder in XGBClassifier is deprecated and will be removed in a future release. To remove this warning, do the following: 1) Pass option use_label_encoder=False when constructing XGBClassifier object; and 2) Encode your labels (y) as integers starting with 0, i.e. 0, 1, 2, ..., [num_class - 1].\n",
      "  warnings.warn(label_encoder_deprecation_msg, UserWarning)\n"
     ]
    },
    {
     "name": "stdout",
     "output_type": "stream",
     "text": [
      "[10:06:01] WARNING: C:/Users/Administrator/workspace/xgboost-win64_release_1.5.1/src/learner.cc:1115: Starting in XGBoost 1.3.0, the default evaluation metric used with the objective 'binary:logistic' was changed from 'error' to 'logloss'. Explicitly set eval_metric if you'd like to restore the old behavior.\n"
     ]
    }
   ],
   "source": [
    "import xgboost\n",
    "classifier_xg = xgboost.XGBClassifier()\n",
    "xg_fit=classifier_xg.fit(x_train, y_train)\n",
    "pred_xg=classifier_xg.predict(x_test)"
   ]
  },
  {
   "cell_type": "code",
   "execution_count": 54,
   "id": "0932929b",
   "metadata": {},
   "outputs": [
    {
     "name": "stdout",
     "output_type": "stream",
     "text": [
      "Name of the algorithm: XG Boost\n",
      "Accuracy: 0.8065807025344598\n",
      "Precision: 0.47039473684210525\n",
      "AUC Score: 0.6275217817012766\n",
      "              precision    recall  f1-score   support\n",
      "\n",
      "           0       0.86      0.91      0.88      1832\n",
      "           1       0.47      0.34      0.40       417\n",
      "\n",
      "    accuracy                           0.81      2249\n",
      "   macro avg       0.66      0.63      0.64      2249\n",
      "weighted avg       0.79      0.81      0.79      2249\n",
      "\n"
     ]
    }
   ],
   "source": [
    "print_scores(\"XG Boost\",y_test,pred_xg)"
   ]
  },
  {
   "cell_type": "markdown",
   "metadata": {},
   "source": [
    "------------------------------------------------------------------------------------------------"
   ]
  },
  {
   "cell_type": "markdown",
   "metadata": {},
   "source": [
    "**Conclusion:**\n",
    "By comparing the Accuracy and Precision Scores among different machine learning models, Gradient Boosting Classifier yields the best metric scores."
   ]
  }
 ],
 "metadata": {
  "interpreter": {
   "hash": "bdc7c943f766c85417025516b4197823f123c110b1303d21639f949a1f297934"
  },
  "kernelspec": {
   "display_name": "Python 3 (ipykernel)",
   "language": "python",
   "name": "python3"
  },
  "language_info": {
   "codemirror_mode": {
    "name": "ipython",
    "version": 3
   },
   "file_extension": ".py",
   "mimetype": "text/x-python",
   "name": "python",
   "nbconvert_exporter": "python",
   "pygments_lexer": "ipython3",
   "version": "3.9.10"
  }
 },
 "nbformat": 4,
 "nbformat_minor": 2
}
